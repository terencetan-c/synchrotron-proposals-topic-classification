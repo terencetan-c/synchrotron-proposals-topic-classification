{
 "cells": [
  {
   "cell_type": "code",
   "execution_count": 1,
   "metadata": {},
   "outputs": [
    {
     "name": "stdout",
     "output_type": "stream",
     "text": [
      "Loaded target vocab\n",
      "Loaded inverse target vocab\n",
      "Loaded citation features vocab.\n",
      "Loaded gold citation mapping\n",
      "Loaded gold citation L1\n",
      "Loaded non-gold citation L1\n",
      "Model initialized\n"
     ]
    }
   ],
   "source": [
    "# Import the OpenAlex model. Make sure the predictor.py file is in the same directory. Also, make sure to go into the file itself to set the path to the correct directories for the model weights etc.\n",
    "import predictor"
   ]
  },
  {
   "cell_type": "code",
   "execution_count": 2,
   "metadata": {},
   "outputs": [],
   "source": [
    "import pandas as pd\n",
    "import numpy as np\n",
    "import json"
   ]
  },
  {
   "cell_type": "markdown",
   "metadata": {},
   "source": [
    "# Classifying the proposals"
   ]
  },
  {
   "cell_type": "markdown",
   "metadata": {},
   "source": [
    "Now that we have initialised the model, we import the proposal datafiles we got from the 'Data Processing' Jupyter notebook.\\\n",
    "We have to transform the proposal DataFrames to the specified format for input into the model.\\\n",
    "For proposals with no referenced works, we will set the input features as an empty list.\\\n",
    "Note that we will set the journal name to a blank string."
   ]
  },
  {
   "cell_type": "code",
   "execution_count": 34,
   "metadata": {},
   "outputs": [],
   "source": [
    "filepath = '/Users/fdp54928/Library/CloudStorage/OneDrive-Nexus365/GitHub Repositories/synchrotron-proposals-topic-classification/Datasets/ESRF/Checkpoint_data/Proposals_ESRF_combined.json'   # <--- INSERT YOUR FILEPATH HERE\n",
    "df_combined=pd.read_json(filepath)"
   ]
  },
  {
   "cell_type": "code",
   "execution_count": 35,
   "metadata": {},
   "outputs": [
    {
     "data": {
      "text/html": [
       "<div>\n",
       "<style scoped>\n",
       "    .dataframe tbody tr th:only-of-type {\n",
       "        vertical-align: middle;\n",
       "    }\n",
       "\n",
       "    .dataframe tbody tr th {\n",
       "        vertical-align: top;\n",
       "    }\n",
       "\n",
       "    .dataframe thead th {\n",
       "        text-align: right;\n",
       "    }\n",
       "</style>\n",
       "<table border=\"1\" class=\"dataframe\">\n",
       "  <thead>\n",
       "    <tr style=\"text-align: right;\">\n",
       "      <th></th>\n",
       "      <th>proposal</th>\n",
       "      <th>summary</th>\n",
       "      <th>title</th>\n",
       "      <th>subject</th>\n",
       "      <th>instrument</th>\n",
       "      <th>experiment_session_doi</th>\n",
       "      <th>pdf_document_name</th>\n",
       "      <th>referenced_works_doi</th>\n",
       "      <th>referenced_works_openalex_ids</th>\n",
       "      <th>publications_doi</th>\n",
       "      <th>publications_openalex_ids</th>\n",
       "      <th>combined_openalex_ids</th>\n",
       "    </tr>\n",
       "  </thead>\n",
       "  <tbody>\n",
       "    <tr>\n",
       "      <th>0</th>\n",
       "      <td>A01-2-1247</td>\n",
       "      <td>The proposal falls within the general research...</td>\n",
       "      <td>Crystal structure of multiferroic KNi_1-xCo_xP...</td>\n",
       "      <td></td>\n",
       "      <td>[BM01]</td>\n",
       "      <td>[10.15151/ESRF-ES-670011307]</td>\n",
       "      <td>[]</td>\n",
       "      <td>[]</td>\n",
       "      <td>[]</td>\n",
       "      <td>[]</td>\n",
       "      <td>[]</td>\n",
       "      <td>[]</td>\n",
       "    </tr>\n",
       "    <tr>\n",
       "      <th>1</th>\n",
       "      <td>A01-2-1248</td>\n",
       "      <td>Having achieved successful results with metal-...</td>\n",
       "      <td>Metal-organic and covalent organic polyhedra f...</td>\n",
       "      <td></td>\n",
       "      <td>[BM01]</td>\n",
       "      <td>[10.15151/ESRF-ES-670011305]</td>\n",
       "      <td>[]</td>\n",
       "      <td>[]</td>\n",
       "      <td>[]</td>\n",
       "      <td>[]</td>\n",
       "      <td>[]</td>\n",
       "      <td>[]</td>\n",
       "    </tr>\n",
       "    <tr>\n",
       "      <th>2</th>\n",
       "      <td>A01-2-1249</td>\n",
       "      <td>The overall aim of the project is deciphering ...</td>\n",
       "      <td>The redox structure of haem- and flavoproteins...</td>\n",
       "      <td></td>\n",
       "      <td>[BM01]</td>\n",
       "      <td>[10.15151/ESRF-ES-670011413]</td>\n",
       "      <td>[98064_A.pdf]</td>\n",
       "      <td>[]</td>\n",
       "      <td>[]</td>\n",
       "      <td>[]</td>\n",
       "      <td>[]</td>\n",
       "      <td>[]</td>\n",
       "    </tr>\n",
       "    <tr>\n",
       "      <th>3</th>\n",
       "      <td>A01-2-1254</td>\n",
       "      <td>In this study, we will investigate structural ...</td>\n",
       "      <td>Nickelates – phase transitions, distortions an...</td>\n",
       "      <td></td>\n",
       "      <td>[BM01]</td>\n",
       "      <td>[10.15151/ESRF-ES-748027553]</td>\n",
       "      <td>[]</td>\n",
       "      <td>[]</td>\n",
       "      <td>[]</td>\n",
       "      <td>[]</td>\n",
       "      <td>[]</td>\n",
       "      <td>[]</td>\n",
       "    </tr>\n",
       "    <tr>\n",
       "      <th>4</th>\n",
       "      <td>A01-2-1255</td>\n",
       "      <td>We developed a crystallization strategy that p...</td>\n",
       "      <td>Understanding the structure of two-dimensional...</td>\n",
       "      <td></td>\n",
       "      <td>[BM01]</td>\n",
       "      <td>[10.15151/ESRF-ES-670011338]</td>\n",
       "      <td>[]</td>\n",
       "      <td>[]</td>\n",
       "      <td>[]</td>\n",
       "      <td>[10.1038/s41563-023-01669-z]</td>\n",
       "      <td>[https://openalex.org/W4386923995]</td>\n",
       "      <td>[https://openalex.org/W4386923995]</td>\n",
       "    </tr>\n",
       "    <tr>\n",
       "      <th>...</th>\n",
       "      <td>...</td>\n",
       "      <td>...</td>\n",
       "      <td>...</td>\n",
       "      <td>...</td>\n",
       "      <td>...</td>\n",
       "      <td>...</td>\n",
       "      <td>...</td>\n",
       "      <td>...</td>\n",
       "      <td>...</td>\n",
       "      <td>...</td>\n",
       "      <td>...</td>\n",
       "      <td>...</td>\n",
       "    </tr>\n",
       "    <tr>\n",
       "      <th>5379</th>\n",
       "      <td>XA-11</td>\n",
       "      <td>Steel slag is one of the most common wastes pr...</td>\n",
       "      <td>Time-resolved X-ray Tomography imaging and Ram...</td>\n",
       "      <td></td>\n",
       "      <td>[BM05]</td>\n",
       "      <td>[10.15151/ESRF-ES-1647778275]</td>\n",
       "      <td>[]</td>\n",
       "      <td>[]</td>\n",
       "      <td>[]</td>\n",
       "      <td>[]</td>\n",
       "      <td>[]</td>\n",
       "      <td>[]</td>\n",
       "    </tr>\n",
       "    <tr>\n",
       "      <th>5380</th>\n",
       "      <td>XA-5</td>\n",
       "      <td>The aim of this proposal is to elucidate the i...</td>\n",
       "      <td>ReMade Proposal\\r\\nImpact of metals blend and ...</td>\n",
       "      <td></td>\n",
       "      <td>[ID22]</td>\n",
       "      <td>[10.15151/ESRF-ES-1424924468]</td>\n",
       "      <td>[]</td>\n",
       "      <td>[]</td>\n",
       "      <td>[]</td>\n",
       "      <td>[]</td>\n",
       "      <td>[]</td>\n",
       "      <td>[]</td>\n",
       "    </tr>\n",
       "    <tr>\n",
       "      <th>5381</th>\n",
       "      <td>XA-6</td>\n",
       "      <td>Recycling spent Li-ion batteries has attracted...</td>\n",
       "      <td>ReMade Proposal\\r\\nOperando investigation stru...</td>\n",
       "      <td></td>\n",
       "      <td>[ID31]</td>\n",
       "      <td>[10.15151/ESRF-ES-1436201044]</td>\n",
       "      <td>[]</td>\n",
       "      <td>[]</td>\n",
       "      <td>[]</td>\n",
       "      <td>[]</td>\n",
       "      <td>[]</td>\n",
       "      <td>[]</td>\n",
       "    </tr>\n",
       "    <tr>\n",
       "      <th>5382</th>\n",
       "      <td>XA-7</td>\n",
       "      <td>This proposals combines our expertise in metal...</td>\n",
       "      <td>ReMade Proposal\\r\\nTuning the sorption propert...</td>\n",
       "      <td></td>\n",
       "      <td>[ID31]</td>\n",
       "      <td>[10.15151/ESRF-ES-1352264747]</td>\n",
       "      <td>[]</td>\n",
       "      <td>[]</td>\n",
       "      <td>[]</td>\n",
       "      <td>[]</td>\n",
       "      <td>[]</td>\n",
       "      <td>[]</td>\n",
       "    </tr>\n",
       "    <tr>\n",
       "      <th>5383</th>\n",
       "      <td>XA-9</td>\n",
       "      <td>Aerospace components are susceptible to wear a...</td>\n",
       "      <td>Additive repairing for turbine blisk aerofoils</td>\n",
       "      <td></td>\n",
       "      <td>[BM05]</td>\n",
       "      <td>[10.15151/ESRF-ES-1720462860]</td>\n",
       "      <td>[]</td>\n",
       "      <td>[]</td>\n",
       "      <td>[]</td>\n",
       "      <td>[]</td>\n",
       "      <td>[]</td>\n",
       "      <td>[]</td>\n",
       "    </tr>\n",
       "  </tbody>\n",
       "</table>\n",
       "<p>5384 rows × 12 columns</p>\n",
       "</div>"
      ],
      "text/plain": [
       "        proposal                                            summary  \\\n",
       "0     A01-2-1247  The proposal falls within the general research...   \n",
       "1     A01-2-1248  Having achieved successful results with metal-...   \n",
       "2     A01-2-1249  The overall aim of the project is deciphering ...   \n",
       "3     A01-2-1254  In this study, we will investigate structural ...   \n",
       "4     A01-2-1255  We developed a crystallization strategy that p...   \n",
       "...          ...                                                ...   \n",
       "5379       XA-11  Steel slag is one of the most common wastes pr...   \n",
       "5380        XA-5  The aim of this proposal is to elucidate the i...   \n",
       "5381        XA-6  Recycling spent Li-ion batteries has attracted...   \n",
       "5382        XA-7  This proposals combines our expertise in metal...   \n",
       "5383        XA-9  Aerospace components are susceptible to wear a...   \n",
       "\n",
       "                                                  title subject instrument  \\\n",
       "0     Crystal structure of multiferroic KNi_1-xCo_xP...             [BM01]   \n",
       "1     Metal-organic and covalent organic polyhedra f...             [BM01]   \n",
       "2     The redox structure of haem- and flavoproteins...             [BM01]   \n",
       "3     Nickelates – phase transitions, distortions an...             [BM01]   \n",
       "4     Understanding the structure of two-dimensional...             [BM01]   \n",
       "...                                                 ...     ...        ...   \n",
       "5379  Time-resolved X-ray Tomography imaging and Ram...             [BM05]   \n",
       "5380  ReMade Proposal\\r\\nImpact of metals blend and ...             [ID22]   \n",
       "5381  ReMade Proposal\\r\\nOperando investigation stru...             [ID31]   \n",
       "5382  ReMade Proposal\\r\\nTuning the sorption propert...             [ID31]   \n",
       "5383     Additive repairing for turbine blisk aerofoils             [BM05]   \n",
       "\n",
       "             experiment_session_doi pdf_document_name referenced_works_doi  \\\n",
       "0      [10.15151/ESRF-ES-670011307]                []                   []   \n",
       "1      [10.15151/ESRF-ES-670011305]                []                   []   \n",
       "2      [10.15151/ESRF-ES-670011413]     [98064_A.pdf]                   []   \n",
       "3      [10.15151/ESRF-ES-748027553]                []                   []   \n",
       "4      [10.15151/ESRF-ES-670011338]                []                   []   \n",
       "...                             ...               ...                  ...   \n",
       "5379  [10.15151/ESRF-ES-1647778275]                []                   []   \n",
       "5380  [10.15151/ESRF-ES-1424924468]                []                   []   \n",
       "5381  [10.15151/ESRF-ES-1436201044]                []                   []   \n",
       "5382  [10.15151/ESRF-ES-1352264747]                []                   []   \n",
       "5383  [10.15151/ESRF-ES-1720462860]                []                   []   \n",
       "\n",
       "     referenced_works_openalex_ids              publications_doi  \\\n",
       "0                               []                            []   \n",
       "1                               []                            []   \n",
       "2                               []                            []   \n",
       "3                               []                            []   \n",
       "4                               []  [10.1038/s41563-023-01669-z]   \n",
       "...                            ...                           ...   \n",
       "5379                            []                            []   \n",
       "5380                            []                            []   \n",
       "5381                            []                            []   \n",
       "5382                            []                            []   \n",
       "5383                            []                            []   \n",
       "\n",
       "               publications_openalex_ids               combined_openalex_ids  \n",
       "0                                     []                                  []  \n",
       "1                                     []                                  []  \n",
       "2                                     []                                  []  \n",
       "3                                     []                                  []  \n",
       "4     [https://openalex.org/W4386923995]  [https://openalex.org/W4386923995]  \n",
       "...                                  ...                                 ...  \n",
       "5379                                  []                                  []  \n",
       "5380                                  []                                  []  \n",
       "5381                                  []                                  []  \n",
       "5382                                  []                                  []  \n",
       "5383                                  []                                  []  \n",
       "\n",
       "[5384 rows x 12 columns]"
      ]
     },
     "execution_count": 35,
     "metadata": {},
     "output_type": "execute_result"
    }
   ],
   "source": [
    "df_combined"
   ]
  },
  {
   "cell_type": "markdown",
   "metadata": {},
   "source": [
    "## Topic prediction with just PDF metadata\n",
    "These predictions are possible for new proposals that are just submitted. This would be the most accurate scenario for a topic prediction live service at the beamtime application stage since only title, abstract, subject, and the PDF metadata are available at that point."
   ]
  },
  {
   "cell_type": "code",
   "execution_count": 36,
   "metadata": {},
   "outputs": [],
   "source": [
    "# Rename the column names\n",
    "df1 = df_combined.rename(columns={'summary': 'abstract_inverted_index', 'referenced_works_openalex_ids':'referenced_works','subject':'journal_display_name' }, inplace=False)"
   ]
  },
  {
   "cell_type": "code",
   "execution_count": 37,
   "metadata": {},
   "outputs": [],
   "source": [
    "# Replace all null values in the title and abstract columns with blank string\n",
    "df1['abstract_inverted_index'].fillna('',inplace=True)\n",
    "df1['title'].fillna('',inplace=True)\n",
    "\n",
    "# Create training batch\n",
    "batch=df1[['title','abstract_inverted_index','referenced_works','journal_display_name']].to_dict(orient='records')\n",
    "\n",
    "# Set the input features\n",
    "for dict in batch:\n",
    "    dict['inverted']=False"
   ]
  },
  {
   "cell_type": "markdown",
   "metadata": {},
   "source": [
    "Now that we have formatted the input data correctly, we can proceed with topic classification."
   ]
  },
  {
   "cell_type": "code",
   "execution_count": 38,
   "metadata": {},
   "outputs": [],
   "source": [
    "# Topic classification for proposals with referenced works\n",
    "results=[]\n",
    "for single in batch:\n",
    "    result=predictor.full_model_prediction([single])\n",
    "    results.append(json.loads(result)[0])"
   ]
  },
  {
   "cell_type": "code",
   "execution_count": 39,
   "metadata": {},
   "outputs": [],
   "source": [
    "# Add the list of topic predictions as a dict value to the batch\n",
    "\n",
    "n = len(batch)\n",
    "for i in range(n):\n",
    "    batch[i]['proposal_number']=df1['proposal'].to_list()[i]\n",
    "    batch[i]['instrument']=df1['instrument'].to_list()[i]\n",
    "    batch[i]['experiment_session_doi']=df1['experiment_session_doi'].to_list()[i]\n",
    "    batch[i]['pdf_document_name']=df1['pdf_document_name'].to_list()[i]\n",
    "    batch[i]['referenced_works_doi']=df1['referenced_works_doi'].to_list()[i]\n",
    "    batch[i]['topic_predictions_pdf_metadata_only']=results[i]\n",
    "\n"
   ]
  },
  {
   "cell_type": "code",
   "execution_count": 40,
   "metadata": {},
   "outputs": [],
   "source": [
    "# Export list to json format\n",
    "filepath = '/Users/fdp54928/Library/CloudStorage/OneDrive-Nexus365/GitHub Repositories/synchrotron-proposals-topic-classification/Datasets/ESRF/Predictions/Proposals_ESRF_Predictions_PDF_metadata_only.json'\n",
    "with open(filepath, 'w') as f:\n",
    "    json.dump(batch, f, indent=2)"
   ]
  },
  {
   "cell_type": "markdown",
   "metadata": {},
   "source": [
    "## Topic prediction with just publications"
   ]
  },
  {
   "cell_type": "code",
   "execution_count": 41,
   "metadata": {},
   "outputs": [],
   "source": [
    "# Rename the column names\n",
    "df2 = df_combined.rename(columns={'summary': 'abstract_inverted_index', 'publications_openalex_ids':'referenced_works','subject':'journal_display_name' }, inplace=False)"
   ]
  },
  {
   "cell_type": "code",
   "execution_count": 42,
   "metadata": {},
   "outputs": [],
   "source": [
    "# Replace all null values in the title and abstract columns with blank string\n",
    "df2['abstract_inverted_index'].fillna('',inplace=True)\n",
    "df2['title'].fillna('',inplace=True)\n",
    "\n",
    "# Create training batch\n",
    "batch2=df2[['title','abstract_inverted_index','referenced_works','journal_display_name']].to_dict(orient='records')\n",
    "\n",
    "# Set the input features\n",
    "for dict in batch2:\n",
    "    dict['inverted']=False"
   ]
  },
  {
   "cell_type": "code",
   "execution_count": 43,
   "metadata": {},
   "outputs": [],
   "source": [
    "# Topic classification for proposals with publications\n",
    "results2=[]\n",
    "for single in batch2:\n",
    "    result=predictor.full_model_prediction([single])\n",
    "    results2.append(json.loads(result)[0])"
   ]
  },
  {
   "cell_type": "code",
   "execution_count": 44,
   "metadata": {},
   "outputs": [],
   "source": [
    "# Add the list of topic predictions as a dict value to the batch\n",
    "\n",
    "n = len(batch2)\n",
    "for i in range(n):\n",
    "    batch2[i]['proposal_number']=df2['proposal'].to_list()[i]\n",
    "    batch2[i]['instrument']=df2['instrument'].to_list()[i]\n",
    "    batch2[i]['experiment_session_doi']=df2['experiment_session_doi'].to_list()[i]\n",
    "    batch2[i]['pdf_document_name']=df2['pdf_document_name'].to_list()[i]\n",
    "    batch2[i]['publications_doi']=df2['publications_doi'].to_list()[i]\n",
    "    batch2[i]['topic_predictions_publications_only']=results2[i]"
   ]
  },
  {
   "cell_type": "code",
   "execution_count": 45,
   "metadata": {},
   "outputs": [],
   "source": [
    "# Export list to json format\n",
    "filepath = '/Users/fdp54928/Library/CloudStorage/OneDrive-Nexus365/GitHub Repositories/synchrotron-proposals-topic-classification/Datasets/ESRF/Predictions/Proposals_ESRF_Predictions_publications_only.json'\n",
    "with open(filepath, 'w') as f:\n",
    "    json.dump(batch2, f, indent=2)"
   ]
  },
  {
   "cell_type": "markdown",
   "metadata": {},
   "source": [
    "## Topic prediction with both PDF metadata and publications\n",
    "These predictions are only pssible for the ESRF once the users have completed the experiments, published based on the results, and informed the ESRF of their publications for the latter to record it."
   ]
  },
  {
   "cell_type": "code",
   "execution_count": 46,
   "metadata": {},
   "outputs": [],
   "source": [
    "# Rename the column names\n",
    "df3 = df_combined.rename(columns={'summary': 'abstract_inverted_index', 'combined_openalex_ids':'referenced_works','subject':'journal_display_name' }, inplace=False)"
   ]
  },
  {
   "cell_type": "code",
   "execution_count": 47,
   "metadata": {},
   "outputs": [],
   "source": [
    "# Replace all null values in the title and abstract columns with blank string\n",
    "df3['abstract_inverted_index'].fillna('',inplace=True)\n",
    "df3['title'].fillna('',inplace=True)\n",
    "\n",
    "# Create training batch\n",
    "batch3=df3[['title','abstract_inverted_index','referenced_works','journal_display_name']].to_dict(orient='records')\n",
    "\n",
    "# Set the input features\n",
    "for dict in batch3:\n",
    "    dict['inverted']=False"
   ]
  },
  {
   "cell_type": "code",
   "execution_count": 48,
   "metadata": {},
   "outputs": [],
   "source": [
    "# Topic classification for proposals with both PDF metadata and publications\n",
    "results3=[]\n",
    "for single in batch3:\n",
    "    result=predictor.full_model_prediction([single])\n",
    "    results3.append(json.loads(result)[0])"
   ]
  },
  {
   "cell_type": "code",
   "execution_count": 51,
   "metadata": {},
   "outputs": [],
   "source": [
    "# Add the list of topic predictions as a dict value to the batch\n",
    "n = len(batch3)\n",
    "for i in range(n):\n",
    "    del batch3[i]['referenced_works']  # Remove the 'referenced_works' key to avoid duplication\n",
    "    batch3[i]['proposal_number']=df3['proposal'].to_list()[i]\n",
    "    batch3[i]['instrument']=df3['instrument'].to_list()[i]\n",
    "    batch3[i]['experiment_session_doi']=df3['experiment_session_doi'].to_list()[i]\n",
    "    batch3[i]['pdf_document_name']=df3['pdf_document_name'].to_list()[i]\n",
    "    batch3[i]['referenced_works_doi']=df3['referenced_works_doi'].to_list()[i]\n",
    "    batch3[i]['referenced_works_openalex_ids']=df3['referenced_works_openalex_ids'].to_list()[i]\n",
    "    batch3[i]['publications_doi']=df3['publications_doi'].to_list()[i]\n",
    "    batch3[i]['publications_openalex_ids']=df3['publications_openalex_ids'].to_list()[i]\n",
    "    batch3[i]['combined_openalex_ids']=df3['referenced_works'].to_list()[i]\n",
    "    batch3[i]['topic_predictions_pdf_metadata_only']=batch[i]['topic_predictions_pdf_metadata_only']\n",
    "    batch3[i]['topic_predictions_publications_only']=batch2[i]['topic_predictions_publications_only']\n",
    "    batch3[i]['topic_predictions_combined']=results3[i]"
   ]
  },
  {
   "cell_type": "code",
   "execution_count": 52,
   "metadata": {},
   "outputs": [],
   "source": [
    "# Export list to json format\n",
    "filepath = '/Users/fdp54928/Library/CloudStorage/OneDrive-Nexus365/GitHub Repositories/synchrotron-proposals-topic-classification/Datasets/ESRF/Predictions/Proposals_ESRF_Predictions_combined_all.json'\n",
    "with open(filepath, 'w') as f:\n",
    "    json.dump(batch3, f, indent=2)"
   ]
  }
 ],
 "metadata": {
  "kernelspec": {
   "display_name": "venv",
   "language": "python",
   "name": "python3"
  },
  "language_info": {
   "codemirror_mode": {
    "name": "ipython",
    "version": 3
   },
   "file_extension": ".py",
   "mimetype": "text/x-python",
   "name": "python",
   "nbconvert_exporter": "python",
   "pygments_lexer": "ipython3",
   "version": "3.11.2"
  }
 },
 "nbformat": 4,
 "nbformat_minor": 2
}
