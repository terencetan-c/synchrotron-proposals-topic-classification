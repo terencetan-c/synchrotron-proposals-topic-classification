{
 "cells": [
  {
   "cell_type": "code",
   "execution_count": 10,
   "metadata": {},
   "outputs": [],
   "source": [
    "import numpy as np\n",
    "import pandas as pd\n",
    "\n",
    "from pyalex import Works, Authors, Sources, Institutions, Topics, Publishers, Funders, config\n",
    "config.email = 'terence.tan@wadham.ox.ac.uk'"
   ]
  },
  {
   "cell_type": "markdown",
   "metadata": {},
   "source": [
    "# Exploring the results"
   ]
  },
  {
   "cell_type": "markdown",
   "metadata": {},
   "source": [
    "Now that we have produced topic classifications for the experimental proposals, we explore the results. \\\n",
    "The first thing we want to do is to compare our topic predictions with the topics for the referenced works."
   ]
  },
  {
   "cell_type": "code",
   "execution_count": 2,
   "metadata": {},
   "outputs": [],
   "source": [
    "prop_esrf_pred=pd.read_json('/Users/fdp54928/Library/CloudStorage/OneDrive-Nexus365/GitHub Repositories/synchrotron-proposals-topic-classification/Datasets/ESRF/Proposals_ESRF_Predictions')"
   ]
  },
  {
   "cell_type": "code",
   "execution_count": 48,
   "metadata": {},
   "outputs": [],
   "source": [
    "# Get a list of openalex IDs of all the referenced works\n",
    "openalex_ids=prop_esrf_pred[prop_esrf_pred['has referenced works']==1]['referenced_works'].to_list()\n",
    "\n",
    "# Get the list of our topic predictions for the proposals that have referenced works\n",
    "topics_pred=prop_esrf_pred[prop_esrf_pred['has referenced works']==1]['topic predictions'].to_list()\n"
   ]
  },
  {
   "cell_type": "code",
   "execution_count": null,
   "metadata": {},
   "outputs": [],
   "source": [
    "# Get the topics for referenced works\n",
    "\n",
    "n = len(openalex_ids)\n",
    "topics_list=[None]*n\n",
    "\n",
    "for i in range(n):\n",
    "    topic_list=[]\n",
    "    ids=openalex_ids[i]\n",
    "    m = len(ids)\n",
    "    for j in range(m):\n",
    "        id=ids[j]\n",
    "        result=Works()[id.split('/')[-1]]['topics']\n",
    "        topic_list.append(result)\n",
    "    topics_list[i]=topic_list"
   ]
  },
  {
   "cell_type": "code",
   "execution_count": null,
   "metadata": {},
   "outputs": [],
   "source": [
    "# Count the number of our topic predictions that matches at least one of the primary topics\n",
    "\n",
    "n=len(topics_pred)\n",
    "count=0\n",
    "\n",
    "for i in range(n):\n",
    "    topic_pred=str(topics_pred[i][0]['topic_id'])\n",
    "    for topics in topics_list[i]:\n",
    "        topic_pub=topics[0]['id'].split('T')[-1]\n",
    "        if topic_pred==topic_pub:\n",
    "            count+=1\n",
    "            break\n",
    "        else:\n",
    "            pass\n",
    "\n",
    "\n"
   ]
  },
  {
   "cell_type": "code",
   "execution_count": null,
   "metadata": {},
   "outputs": [
    {
     "data": {
      "text/plain": [
       "202"
      ]
     },
     "execution_count": 78,
     "metadata": {},
     "output_type": "execute_result"
    }
   ],
   "source": []
  },
  {
   "cell_type": "code",
   "execution_count": 76,
   "metadata": {},
   "outputs": [
    {
     "data": {
      "text/plain": [
       "True"
      ]
     },
     "execution_count": 76,
     "metadata": {},
     "output_type": "execute_result"
    }
   ],
   "source": [
    "topic_pred==topic_pub"
   ]
  },
  {
   "cell_type": "code",
   "execution_count": 75,
   "metadata": {},
   "outputs": [
    {
     "data": {
      "text/plain": [
       "'10247'"
      ]
     },
     "execution_count": 75,
     "metadata": {},
     "output_type": "execute_result"
    }
   ],
   "source": [
    "topic_pub"
   ]
  },
  {
   "cell_type": "code",
   "execution_count": 67,
   "metadata": {},
   "outputs": [
    {
     "data": {
      "text/plain": [
       "533"
      ]
     },
     "execution_count": 67,
     "metadata": {},
     "output_type": "execute_result"
    }
   ],
   "source": [
    "i"
   ]
  },
  {
   "cell_type": "code",
   "execution_count": null,
   "metadata": {},
   "outputs": [],
   "source": []
  }
 ],
 "metadata": {
  "kernelspec": {
   "display_name": "Python (venv)",
   "language": "python",
   "name": "venv"
  },
  "language_info": {
   "codemirror_mode": {
    "name": "ipython",
    "version": 3
   },
   "file_extension": ".py",
   "mimetype": "text/x-python",
   "name": "python",
   "nbconvert_exporter": "python",
   "pygments_lexer": "ipython3",
   "version": "3.11.2"
  }
 },
 "nbformat": 4,
 "nbformat_minor": 2
}
